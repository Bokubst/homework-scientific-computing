{
 "cells": [
  {
   "cell_type": "code",
   "execution_count": 1,
   "metadata": {},
   "outputs": [],
   "source": [
    "import matplotlib.pyplot as plt\n",
    "import pandas as pd\n",
    "import os\n",
    "import numpy as np\n",
    "import datetime\n",
    "import glob\n",
    "from pathlib import Path\n",
    "from sklearn import datasets, linear_model\n",
    "from sklearn.metrics import mean_squared_error, r2_score\n",
    "\n",
    "DOWNLOAD_DIR = '<your-download-path-here>'"
   ]
  },
  {
   "cell_type": "markdown",
   "metadata": {},
   "source": [
    "This will import the data, you have to run it to be able to solve the homework."
   ]
  },
  {
   "cell_type": "code",
   "execution_count": 2,
   "metadata": {},
   "outputs": [
    {
     "name": "stdout",
     "output_type": "stream",
     "text": [
      "Concatenating 68 csv files...\n",
      "Loading done.\n"
     ]
    }
   ],
   "source": [
    "def read_single_csv_entso_e(file):\n",
    "    return pd.read_csv(file, sep='\\t', encoding='utf-16', parse_dates=[\"DateTime\"])\n",
    "\n",
    "\n",
    "def load_complete_entso_e_data(directory):\n",
    "    pattern = Path(directory) / '*.csv'\n",
    "    files = glob.glob(str(pattern))\n",
    "\n",
    "    if not files:\n",
    "        raise ValueError(f\"No files found when searching in {pattern}, wrong directory?\")\n",
    "    \n",
    "    print(f'Concatenating {len(files)} csv files...')\n",
    "\n",
    "    each_csv_file = [read_single_csv_entso_e(file) for file in files]\n",
    "    data = pd.concat(each_csv_file, ignore_index=True)\n",
    "\n",
    "    data = data.sort_values(by=[\"AreaName\", \"DateTime\"])\n",
    "    data = data.set_index(\"DateTime\")\n",
    "\n",
    "    print(\"Loading done.\")\n",
    "\n",
    "    return data\n",
    "\n",
    "\n",
    "power_demand = load_complete_entso_e_data(DOWNLOAD_DIR)"
   ]
  },
  {
   "cell_type": "markdown",
   "metadata": {},
   "source": [
    "# Exercise 1 - Calculate the relation of Wednesday average consumption to Sunday average consumption for selected countries\n",
    "\n",
    "In this exercise, calculate the relation of Wednesday average consumption to Sunday average consumption for the following countries: Austria, Germany, United Kingdom, Spain, Sweden, Italy, Croatia.\n",
    "\n",
    "(1) First create a variable that contains only power consumption data for these countries. The pandas command ```isin()``` may be very helpful here. Reduce the data to only consider the period 2015-01-01 until 2019-12-31. The lecture slides may contain relevant code here.\n",
    "\n",
    "(2) Then, group the data by weekday and country (i.e. AreaName). Use ```groupby``` and ```mean```for that purpose. \n",
    "\n",
    "(3) Calculate for all countries the proportion of Wednesday (day 2) and Sunday (day 6) by dividing the two values.\n",
    "\n",
    "(4) For which country, this relative value is highest? What could this indicate?"
   ]
  },
  {
   "cell_type": "code",
   "execution_count": 3,
   "metadata": {},
   "outputs": [],
   "source": [
    "c = ['Austria','Germany','United Kingdom','Spain','Italy','Sweden','Croatia']"
   ]
  },
  {
   "cell_type": "code",
   "execution_count": 4,
   "metadata": {},
   "outputs": [],
   "source": [
    "pd_countries = power_demand[power_demand['AreaName'].isin(c)]"
   ]
  },
  {
   "cell_type": "code",
   "execution_count": 5,
   "metadata": {},
   "outputs": [
    {
     "data": {
      "text/html": [
       "<div>\n",
       "<style scoped>\n",
       "    .dataframe tbody tr th:only-of-type {\n",
       "        vertical-align: middle;\n",
       "    }\n",
       "\n",
       "    .dataframe tbody tr th {\n",
       "        vertical-align: top;\n",
       "    }\n",
       "\n",
       "    .dataframe thead th {\n",
       "        text-align: right;\n",
       "    }\n",
       "</style>\n",
       "<table border=\"1\" class=\"dataframe\">\n",
       "  <thead>\n",
       "    <tr style=\"text-align: right;\">\n",
       "      <th></th>\n",
       "      <th>Year</th>\n",
       "      <th>Month</th>\n",
       "      <th>Day</th>\n",
       "      <th>ResolutionCode</th>\n",
       "      <th>areacode</th>\n",
       "      <th>AreaTypeCode</th>\n",
       "      <th>AreaName</th>\n",
       "      <th>MapCode</th>\n",
       "      <th>TotalLoadValue</th>\n",
       "      <th>UpdateTime</th>\n",
       "    </tr>\n",
       "    <tr>\n",
       "      <th>DateTime</th>\n",
       "      <th></th>\n",
       "      <th></th>\n",
       "      <th></th>\n",
       "      <th></th>\n",
       "      <th></th>\n",
       "      <th></th>\n",
       "      <th></th>\n",
       "      <th></th>\n",
       "      <th></th>\n",
       "      <th></th>\n",
       "    </tr>\n",
       "  </thead>\n",
       "  <tbody>\n",
       "    <tr>\n",
       "      <th>2014-12-01 23:00:00</th>\n",
       "      <td>2014</td>\n",
       "      <td>12</td>\n",
       "      <td>1</td>\n",
       "      <td>PT15M</td>\n",
       "      <td>10YAT-APG------L</td>\n",
       "      <td>CTY</td>\n",
       "      <td>Austria</td>\n",
       "      <td>AT</td>\n",
       "      <td>6493.6</td>\n",
       "      <td>2017-09-14 04:00:06</td>\n",
       "    </tr>\n",
       "    <tr>\n",
       "      <th>2014-12-01 23:15:00</th>\n",
       "      <td>2014</td>\n",
       "      <td>12</td>\n",
       "      <td>1</td>\n",
       "      <td>PT15M</td>\n",
       "      <td>10YAT-APG------L</td>\n",
       "      <td>CTY</td>\n",
       "      <td>Austria</td>\n",
       "      <td>AT</td>\n",
       "      <td>6350.4</td>\n",
       "      <td>2017-09-14 04:00:06</td>\n",
       "    </tr>\n",
       "    <tr>\n",
       "      <th>2014-12-01 23:30:00</th>\n",
       "      <td>2014</td>\n",
       "      <td>12</td>\n",
       "      <td>1</td>\n",
       "      <td>PT15M</td>\n",
       "      <td>10YAT-APG------L</td>\n",
       "      <td>CTY</td>\n",
       "      <td>Austria</td>\n",
       "      <td>AT</td>\n",
       "      <td>6494.0</td>\n",
       "      <td>2017-09-14 04:00:06</td>\n",
       "    </tr>\n",
       "    <tr>\n",
       "      <th>2014-12-01 23:45:00</th>\n",
       "      <td>2014</td>\n",
       "      <td>12</td>\n",
       "      <td>1</td>\n",
       "      <td>PT15M</td>\n",
       "      <td>10YAT-APG------L</td>\n",
       "      <td>CTY</td>\n",
       "      <td>Austria</td>\n",
       "      <td>AT</td>\n",
       "      <td>6463.2</td>\n",
       "      <td>2017-09-14 04:00:06</td>\n",
       "    </tr>\n",
       "    <tr>\n",
       "      <th>2014-12-02 00:00:00</th>\n",
       "      <td>2014</td>\n",
       "      <td>12</td>\n",
       "      <td>2</td>\n",
       "      <td>PT15M</td>\n",
       "      <td>10YAT-APG------L</td>\n",
       "      <td>CTY</td>\n",
       "      <td>Austria</td>\n",
       "      <td>AT</td>\n",
       "      <td>6423.2</td>\n",
       "      <td>2017-09-14 04:00:06</td>\n",
       "    </tr>\n",
       "    <tr>\n",
       "      <th>...</th>\n",
       "      <td>...</td>\n",
       "      <td>...</td>\n",
       "      <td>...</td>\n",
       "      <td>...</td>\n",
       "      <td>...</td>\n",
       "      <td>...</td>\n",
       "      <td>...</td>\n",
       "      <td>...</td>\n",
       "      <td>...</td>\n",
       "      <td>...</td>\n",
       "    </tr>\n",
       "    <tr>\n",
       "      <th>2020-05-08 22:30:00</th>\n",
       "      <td>2020</td>\n",
       "      <td>5</td>\n",
       "      <td>8</td>\n",
       "      <td>PT30M</td>\n",
       "      <td>GB</td>\n",
       "      <td>CTY</td>\n",
       "      <td>United Kingdom</td>\n",
       "      <td>GB</td>\n",
       "      <td>25623.0</td>\n",
       "      <td>2020-05-10 00:16:08</td>\n",
       "    </tr>\n",
       "    <tr>\n",
       "      <th>2020-05-08 23:00:00</th>\n",
       "      <td>2020</td>\n",
       "      <td>5</td>\n",
       "      <td>8</td>\n",
       "      <td>PT30M</td>\n",
       "      <td>GB</td>\n",
       "      <td>CTY</td>\n",
       "      <td>United Kingdom</td>\n",
       "      <td>GB</td>\n",
       "      <td>24483.0</td>\n",
       "      <td>2020-05-10 01:16:17</td>\n",
       "    </tr>\n",
       "    <tr>\n",
       "      <th>2020-05-08 23:30:00</th>\n",
       "      <td>2020</td>\n",
       "      <td>5</td>\n",
       "      <td>8</td>\n",
       "      <td>PT30M</td>\n",
       "      <td>GB</td>\n",
       "      <td>CTY</td>\n",
       "      <td>United Kingdom</td>\n",
       "      <td>GB</td>\n",
       "      <td>23961.0</td>\n",
       "      <td>2020-05-10 01:16:17</td>\n",
       "    </tr>\n",
       "    <tr>\n",
       "      <th>2020-05-09 00:00:00</th>\n",
       "      <td>2020</td>\n",
       "      <td>5</td>\n",
       "      <td>9</td>\n",
       "      <td>PT30M</td>\n",
       "      <td>GB</td>\n",
       "      <td>CTY</td>\n",
       "      <td>United Kingdom</td>\n",
       "      <td>GB</td>\n",
       "      <td>23725.0</td>\n",
       "      <td>2020-05-10 02:16:03</td>\n",
       "    </tr>\n",
       "    <tr>\n",
       "      <th>2020-05-09 00:30:00</th>\n",
       "      <td>2020</td>\n",
       "      <td>5</td>\n",
       "      <td>9</td>\n",
       "      <td>PT30M</td>\n",
       "      <td>GB</td>\n",
       "      <td>CTY</td>\n",
       "      <td>United Kingdom</td>\n",
       "      <td>GB</td>\n",
       "      <td>23651.0</td>\n",
       "      <td>2020-05-10 02:16:03</td>\n",
       "    </tr>\n",
       "  </tbody>\n",
       "</table>\n",
       "<p>647012 rows × 10 columns</p>\n",
       "</div>"
      ],
      "text/plain": [
       "                     Year  Month  Day ResolutionCode          areacode  \\\n",
       "DateTime                                                                 \n",
       "2014-12-01 23:00:00  2014     12    1          PT15M  10YAT-APG------L   \n",
       "2014-12-01 23:15:00  2014     12    1          PT15M  10YAT-APG------L   \n",
       "2014-12-01 23:30:00  2014     12    1          PT15M  10YAT-APG------L   \n",
       "2014-12-01 23:45:00  2014     12    1          PT15M  10YAT-APG------L   \n",
       "2014-12-02 00:00:00  2014     12    2          PT15M  10YAT-APG------L   \n",
       "...                   ...    ...  ...            ...               ...   \n",
       "2020-05-08 22:30:00  2020      5    8          PT30M                GB   \n",
       "2020-05-08 23:00:00  2020      5    8          PT30M                GB   \n",
       "2020-05-08 23:30:00  2020      5    8          PT30M                GB   \n",
       "2020-05-09 00:00:00  2020      5    9          PT30M                GB   \n",
       "2020-05-09 00:30:00  2020      5    9          PT30M                GB   \n",
       "\n",
       "                    AreaTypeCode        AreaName MapCode  TotalLoadValue  \\\n",
       "DateTime                                                                   \n",
       "2014-12-01 23:00:00          CTY         Austria      AT          6493.6   \n",
       "2014-12-01 23:15:00          CTY         Austria      AT          6350.4   \n",
       "2014-12-01 23:30:00          CTY         Austria      AT          6494.0   \n",
       "2014-12-01 23:45:00          CTY         Austria      AT          6463.2   \n",
       "2014-12-02 00:00:00          CTY         Austria      AT          6423.2   \n",
       "...                          ...             ...     ...             ...   \n",
       "2020-05-08 22:30:00          CTY  United Kingdom      GB         25623.0   \n",
       "2020-05-08 23:00:00          CTY  United Kingdom      GB         24483.0   \n",
       "2020-05-08 23:30:00          CTY  United Kingdom      GB         23961.0   \n",
       "2020-05-09 00:00:00          CTY  United Kingdom      GB         23725.0   \n",
       "2020-05-09 00:30:00          CTY  United Kingdom      GB         23651.0   \n",
       "\n",
       "                              UpdateTime  \n",
       "DateTime                                  \n",
       "2014-12-01 23:00:00  2017-09-14 04:00:06  \n",
       "2014-12-01 23:15:00  2017-09-14 04:00:06  \n",
       "2014-12-01 23:30:00  2017-09-14 04:00:06  \n",
       "2014-12-01 23:45:00  2017-09-14 04:00:06  \n",
       "2014-12-02 00:00:00  2017-09-14 04:00:06  \n",
       "...                                  ...  \n",
       "2020-05-08 22:30:00  2020-05-10 00:16:08  \n",
       "2020-05-08 23:00:00  2020-05-10 01:16:17  \n",
       "2020-05-08 23:30:00  2020-05-10 01:16:17  \n",
       "2020-05-09 00:00:00  2020-05-10 02:16:03  \n",
       "2020-05-09 00:30:00  2020-05-10 02:16:03  \n",
       "\n",
       "[647012 rows x 10 columns]"
      ]
     },
     "execution_count": 5,
     "metadata": {},
     "output_type": "execute_result"
    }
   ],
   "source": [
    "pd_countries"
   ]
  },
  {
   "cell_type": "code",
   "execution_count": 6,
   "metadata": {},
   "outputs": [],
   "source": [
    "powerd = pd_countries['2015-01-01':'2019-12-31']"
   ]
  },
  {
   "cell_type": "code",
   "execution_count": 7,
   "metadata": {},
   "outputs": [],
   "source": [
    "pd_weekday_mean = powerd.groupby([powerd.index.weekday,powerd.AreaName]).mean()"
   ]
  },
  {
   "cell_type": "code",
   "execution_count": 8,
   "metadata": {},
   "outputs": [
    {
     "data": {
      "text/plain": [
       "DateTime  AreaName      \n",
       "2         Austria            7597.097115\n",
       "          Croatia            2072.242308\n",
       "          Germany           59894.796293\n",
       "          Italy             35925.647596\n",
       "          Spain             30108.756696\n",
       "          Sweden            16188.529006\n",
       "          United Kingdom    37681.473124\n",
       "6         Austria            5982.295785\n",
       "          Croatia            1802.134738\n",
       "          Germany           46127.261956\n",
       "          Italy             26104.259419\n",
       "          Spain             24857.647031\n",
       "          Sweden            14489.429647\n",
       "          United Kingdom    33251.563333\n",
       "Name: TotalLoadValue, dtype: float64"
      ]
     },
     "execution_count": 8,
     "metadata": {},
     "output_type": "execute_result"
    }
   ],
   "source": [
    "x = pd_weekday_mean.loc[((2,6),),'TotalLoadValue']\n",
    "x"
   ]
  },
  {
   "cell_type": "code",
   "execution_count": 9,
   "metadata": {},
   "outputs": [
    {
     "name": "stdout",
     "output_type": "stream",
     "text": [
      "AreaName\n",
      "Austria           1.269930\n",
      "Croatia           1.149882\n",
      "Germany           1.298468\n",
      "Italy             1.376237\n",
      "Spain             1.211247\n",
      "Sweden            1.117265\n",
      "United Kingdom    1.133224\n",
      "Name: TotalLoadValue, dtype: float64\n"
     ]
    },
    {
     "data": {
      "text/plain": [
       "'Italy'"
      ]
     },
     "execution_count": 9,
     "metadata": {},
     "output_type": "execute_result"
    }
   ],
   "source": [
    "proportion = x[2]/x[6]\n",
    "print(proportion)\n",
    "proportion.idxmax(axis=0)"
   ]
  },
  {
   "cell_type": "markdown",
   "metadata": {},
   "source": [
    "in Italy on Sundays the consumption in aspect to a weekday differs more than in other countries like Sweden"
   ]
  },
  {
   "cell_type": "code",
   "execution_count": null,
   "metadata": {},
   "outputs": [],
   "source": []
  },
  {
   "cell_type": "markdown",
   "metadata": {},
   "source": [
    "# Exercise 2 - Calculate the monthly average consumption as deviation from mean consumption\n",
    "\n",
    "For the same countries as in the above dataset, calculate the monthly mean consumption as deviation from the mean of consumption over the whole time. Plot the curves for all countries.\n",
    "\n",
    "(1) First create a variable that contains only power consumption data for the selected countries. The pandas command ```isin()``` may be very helpful here. If you did Exercise 1, you can use the same dataset.\n",
    "\n",
    "(2) Then, aggregate the data by country (i.e. AreaName) and month. Use ```groupby``` and ```mean``` for that purpose. Select the column ```TotalLoadValue``` from the result.\n",
    "\n",
    "(3)  Aggregate the data by country (i..e AreaName) only, i.e. calculate the average consumption by country using ```groupby``` and ```mean```. Select the column ```TotalLoadValue``` from the result.\n",
    "\n",
    "(4) Divide the result of (2) by (3) and observe how well broadcasting works here.\n",
    "\n",
    "(5) Use the command ```unstack``` on the result. How does the table look now? Plot the result. If your resulting, unstacked dataframe is called ```result```, you may use ```result.plot()``` to get a nice plot.\n",
    "\n",
    "(6) How would you explain the difference in the curve between Croatia and Sweden?\n"
   ]
  },
  {
   "cell_type": "code",
   "execution_count": 10,
   "metadata": {},
   "outputs": [
    {
     "data": {
      "text/plain": [
       "DateTime  AreaName      \n",
       "1         Austria            7932.530645\n",
       "          Croatia            2169.616129\n",
       "          Germany           59465.218593\n",
       "          Italy             34078.574731\n",
       "          Spain             30520.369202\n",
       "                                ...     \n",
       "12        Germany           56849.113073\n",
       "          Italy             32592.034140\n",
       "          Spain             28642.714516\n",
       "          Sweden            18057.871460\n",
       "          United Kingdom    38694.120942\n",
       "Name: TotalLoadValue, Length: 84, dtype: float64"
      ]
     },
     "execution_count": 10,
     "metadata": {},
     "output_type": "execute_result"
    }
   ],
   "source": [
    "pd_month_mean = powerd.groupby([powerd.index.month,powerd.AreaName]).mean()\n",
    "pd_month_mean['TotalLoadValue']"
   ]
  },
  {
   "cell_type": "code",
   "execution_count": 11,
   "metadata": {},
   "outputs": [
    {
     "data": {
      "text/plain": [
       "AreaName\n",
       "Austria            7124.438760\n",
       "Croatia            2003.858225\n",
       "Germany           55859.257807\n",
       "Italy             33192.450073\n",
       "Spain             28664.970677\n",
       "Sweden            15623.217001\n",
       "United Kingdom    36318.162173\n",
       "Name: TotalLoadValue, dtype: float64"
      ]
     },
     "execution_count": 11,
     "metadata": {},
     "output_type": "execute_result"
    }
   ],
   "source": [
    "pd_month_mean_total = powerd.groupby([powerd.AreaName]).mean()\n",
    "pd_month_mean_total['TotalLoadValue']"
   ]
  },
  {
   "cell_type": "code",
   "execution_count": 12,
   "metadata": {
    "scrolled": false
   },
   "outputs": [],
   "source": [
    "result = pd_month_mean['TotalLoadValue']/pd_month_mean_total['TotalLoadValue']"
   ]
  },
  {
   "cell_type": "code",
   "execution_count": 13,
   "metadata": {},
   "outputs": [
    {
     "data": {
      "text/html": [
       "<div>\n",
       "<style scoped>\n",
       "    .dataframe tbody tr th:only-of-type {\n",
       "        vertical-align: middle;\n",
       "    }\n",
       "\n",
       "    .dataframe tbody tr th {\n",
       "        vertical-align: top;\n",
       "    }\n",
       "\n",
       "    .dataframe thead th {\n",
       "        text-align: right;\n",
       "    }\n",
       "</style>\n",
       "<table border=\"1\" class=\"dataframe\">\n",
       "  <thead>\n",
       "    <tr style=\"text-align: right;\">\n",
       "      <th>DateTime</th>\n",
       "      <th>1</th>\n",
       "      <th>2</th>\n",
       "      <th>3</th>\n",
       "      <th>4</th>\n",
       "      <th>5</th>\n",
       "      <th>6</th>\n",
       "      <th>7</th>\n",
       "      <th>8</th>\n",
       "      <th>9</th>\n",
       "      <th>10</th>\n",
       "      <th>11</th>\n",
       "      <th>12</th>\n",
       "    </tr>\n",
       "    <tr>\n",
       "      <th>AreaName</th>\n",
       "      <th></th>\n",
       "      <th></th>\n",
       "      <th></th>\n",
       "      <th></th>\n",
       "      <th></th>\n",
       "      <th></th>\n",
       "      <th></th>\n",
       "      <th></th>\n",
       "      <th></th>\n",
       "      <th></th>\n",
       "      <th></th>\n",
       "      <th></th>\n",
       "    </tr>\n",
       "  </thead>\n",
       "  <tbody>\n",
       "    <tr>\n",
       "      <th>Austria</th>\n",
       "      <td>1.113425</td>\n",
       "      <td>1.128539</td>\n",
       "      <td>1.063218</td>\n",
       "      <td>0.953912</td>\n",
       "      <td>0.910074</td>\n",
       "      <td>0.926077</td>\n",
       "      <td>0.916214</td>\n",
       "      <td>0.905685</td>\n",
       "      <td>0.942456</td>\n",
       "      <td>0.987381</td>\n",
       "      <td>1.075567</td>\n",
       "      <td>1.085772</td>\n",
       "    </tr>\n",
       "    <tr>\n",
       "      <th>Croatia</th>\n",
       "      <td>1.082719</td>\n",
       "      <td>1.063903</td>\n",
       "      <td>1.001216</td>\n",
       "      <td>0.918810</td>\n",
       "      <td>0.905044</td>\n",
       "      <td>0.958456</td>\n",
       "      <td>1.064057</td>\n",
       "      <td>1.052261</td>\n",
       "      <td>0.957277</td>\n",
       "      <td>0.935913</td>\n",
       "      <td>0.991125</td>\n",
       "      <td>1.069385</td>\n",
       "    </tr>\n",
       "    <tr>\n",
       "      <th>Germany</th>\n",
       "      <td>1.064554</td>\n",
       "      <td>1.074510</td>\n",
       "      <td>1.036265</td>\n",
       "      <td>0.966114</td>\n",
       "      <td>0.948962</td>\n",
       "      <td>0.963211</td>\n",
       "      <td>0.965244</td>\n",
       "      <td>0.947354</td>\n",
       "      <td>0.965235</td>\n",
       "      <td>0.995737</td>\n",
       "      <td>1.060383</td>\n",
       "      <td>1.017721</td>\n",
       "    </tr>\n",
       "    <tr>\n",
       "      <th>Italy</th>\n",
       "      <td>1.026697</td>\n",
       "      <td>1.049985</td>\n",
       "      <td>0.990605</td>\n",
       "      <td>0.910626</td>\n",
       "      <td>0.933483</td>\n",
       "      <td>1.026133</td>\n",
       "      <td>1.136398</td>\n",
       "      <td>0.959686</td>\n",
       "      <td>1.012885</td>\n",
       "      <td>0.970708</td>\n",
       "      <td>1.003899</td>\n",
       "      <td>0.981911</td>\n",
       "    </tr>\n",
       "    <tr>\n",
       "      <th>Spain</th>\n",
       "      <td>1.064727</td>\n",
       "      <td>1.066895</td>\n",
       "      <td>1.001202</td>\n",
       "      <td>0.941515</td>\n",
       "      <td>0.935340</td>\n",
       "      <td>0.995052</td>\n",
       "      <td>1.062301</td>\n",
       "      <td>1.009465</td>\n",
       "      <td>0.983747</td>\n",
       "      <td>0.942679</td>\n",
       "      <td>1.001410</td>\n",
       "      <td>0.999224</td>\n",
       "    </tr>\n",
       "    <tr>\n",
       "      <th>Sweden</th>\n",
       "      <td>1.274837</td>\n",
       "      <td>1.240632</td>\n",
       "      <td>1.139172</td>\n",
       "      <td>0.995361</td>\n",
       "      <td>0.875668</td>\n",
       "      <td>0.820553</td>\n",
       "      <td>0.757850</td>\n",
       "      <td>0.803023</td>\n",
       "      <td>0.865870</td>\n",
       "      <td>0.974757</td>\n",
       "      <td>1.113573</td>\n",
       "      <td>1.155836</td>\n",
       "    </tr>\n",
       "    <tr>\n",
       "      <th>United Kingdom</th>\n",
       "      <td>1.133772</td>\n",
       "      <td>1.158053</td>\n",
       "      <td>1.094719</td>\n",
       "      <td>0.996545</td>\n",
       "      <td>0.948103</td>\n",
       "      <td>0.915583</td>\n",
       "      <td>0.910248</td>\n",
       "      <td>0.896155</td>\n",
       "      <td>0.919244</td>\n",
       "      <td>0.981311</td>\n",
       "      <td>1.082944</td>\n",
       "      <td>1.065421</td>\n",
       "    </tr>\n",
       "  </tbody>\n",
       "</table>\n",
       "</div>"
      ],
      "text/plain": [
       "DateTime              1         2         3         4         5         6   \\\n",
       "AreaName                                                                     \n",
       "Austria         1.113425  1.128539  1.063218  0.953912  0.910074  0.926077   \n",
       "Croatia         1.082719  1.063903  1.001216  0.918810  0.905044  0.958456   \n",
       "Germany         1.064554  1.074510  1.036265  0.966114  0.948962  0.963211   \n",
       "Italy           1.026697  1.049985  0.990605  0.910626  0.933483  1.026133   \n",
       "Spain           1.064727  1.066895  1.001202  0.941515  0.935340  0.995052   \n",
       "Sweden          1.274837  1.240632  1.139172  0.995361  0.875668  0.820553   \n",
       "United Kingdom  1.133772  1.158053  1.094719  0.996545  0.948103  0.915583   \n",
       "\n",
       "DateTime              7         8         9         10        11        12  \n",
       "AreaName                                                                    \n",
       "Austria         0.916214  0.905685  0.942456  0.987381  1.075567  1.085772  \n",
       "Croatia         1.064057  1.052261  0.957277  0.935913  0.991125  1.069385  \n",
       "Germany         0.965244  0.947354  0.965235  0.995737  1.060383  1.017721  \n",
       "Italy           1.136398  0.959686  1.012885  0.970708  1.003899  0.981911  \n",
       "Spain           1.062301  1.009465  0.983747  0.942679  1.001410  0.999224  \n",
       "Sweden          0.757850  0.803023  0.865870  0.974757  1.113573  1.155836  \n",
       "United Kingdom  0.910248  0.896155  0.919244  0.981311  1.082944  1.065421  "
      ]
     },
     "execution_count": 13,
     "metadata": {},
     "output_type": "execute_result"
    }
   ],
   "source": [
    "result.unstack(level=0)"
   ]
  },
  {
   "cell_type": "code",
   "execution_count": 14,
   "metadata": {},
   "outputs": [
    {
     "data": {
      "text/html": [
       "<div>\n",
       "<style scoped>\n",
       "    .dataframe tbody tr th:only-of-type {\n",
       "        vertical-align: middle;\n",
       "    }\n",
       "\n",
       "    .dataframe tbody tr th {\n",
       "        vertical-align: top;\n",
       "    }\n",
       "\n",
       "    .dataframe thead th {\n",
       "        text-align: right;\n",
       "    }\n",
       "</style>\n",
       "<table border=\"1\" class=\"dataframe\">\n",
       "  <thead>\n",
       "    <tr style=\"text-align: right;\">\n",
       "      <th>AreaName</th>\n",
       "      <th>Austria</th>\n",
       "      <th>Croatia</th>\n",
       "      <th>Germany</th>\n",
       "      <th>Italy</th>\n",
       "      <th>Spain</th>\n",
       "      <th>Sweden</th>\n",
       "      <th>United Kingdom</th>\n",
       "    </tr>\n",
       "    <tr>\n",
       "      <th>DateTime</th>\n",
       "      <th></th>\n",
       "      <th></th>\n",
       "      <th></th>\n",
       "      <th></th>\n",
       "      <th></th>\n",
       "      <th></th>\n",
       "      <th></th>\n",
       "    </tr>\n",
       "  </thead>\n",
       "  <tbody>\n",
       "    <tr>\n",
       "      <th>1</th>\n",
       "      <td>1.113425</td>\n",
       "      <td>1.082719</td>\n",
       "      <td>1.064554</td>\n",
       "      <td>1.026697</td>\n",
       "      <td>1.064727</td>\n",
       "      <td>1.274837</td>\n",
       "      <td>1.133772</td>\n",
       "    </tr>\n",
       "    <tr>\n",
       "      <th>2</th>\n",
       "      <td>1.128539</td>\n",
       "      <td>1.063903</td>\n",
       "      <td>1.074510</td>\n",
       "      <td>1.049985</td>\n",
       "      <td>1.066895</td>\n",
       "      <td>1.240632</td>\n",
       "      <td>1.158053</td>\n",
       "    </tr>\n",
       "    <tr>\n",
       "      <th>3</th>\n",
       "      <td>1.063218</td>\n",
       "      <td>1.001216</td>\n",
       "      <td>1.036265</td>\n",
       "      <td>0.990605</td>\n",
       "      <td>1.001202</td>\n",
       "      <td>1.139172</td>\n",
       "      <td>1.094719</td>\n",
       "    </tr>\n",
       "    <tr>\n",
       "      <th>4</th>\n",
       "      <td>0.953912</td>\n",
       "      <td>0.918810</td>\n",
       "      <td>0.966114</td>\n",
       "      <td>0.910626</td>\n",
       "      <td>0.941515</td>\n",
       "      <td>0.995361</td>\n",
       "      <td>0.996545</td>\n",
       "    </tr>\n",
       "    <tr>\n",
       "      <th>5</th>\n",
       "      <td>0.910074</td>\n",
       "      <td>0.905044</td>\n",
       "      <td>0.948962</td>\n",
       "      <td>0.933483</td>\n",
       "      <td>0.935340</td>\n",
       "      <td>0.875668</td>\n",
       "      <td>0.948103</td>\n",
       "    </tr>\n",
       "    <tr>\n",
       "      <th>6</th>\n",
       "      <td>0.926077</td>\n",
       "      <td>0.958456</td>\n",
       "      <td>0.963211</td>\n",
       "      <td>1.026133</td>\n",
       "      <td>0.995052</td>\n",
       "      <td>0.820553</td>\n",
       "      <td>0.915583</td>\n",
       "    </tr>\n",
       "    <tr>\n",
       "      <th>7</th>\n",
       "      <td>0.916214</td>\n",
       "      <td>1.064057</td>\n",
       "      <td>0.965244</td>\n",
       "      <td>1.136398</td>\n",
       "      <td>1.062301</td>\n",
       "      <td>0.757850</td>\n",
       "      <td>0.910248</td>\n",
       "    </tr>\n",
       "    <tr>\n",
       "      <th>8</th>\n",
       "      <td>0.905685</td>\n",
       "      <td>1.052261</td>\n",
       "      <td>0.947354</td>\n",
       "      <td>0.959686</td>\n",
       "      <td>1.009465</td>\n",
       "      <td>0.803023</td>\n",
       "      <td>0.896155</td>\n",
       "    </tr>\n",
       "    <tr>\n",
       "      <th>9</th>\n",
       "      <td>0.942456</td>\n",
       "      <td>0.957277</td>\n",
       "      <td>0.965235</td>\n",
       "      <td>1.012885</td>\n",
       "      <td>0.983747</td>\n",
       "      <td>0.865870</td>\n",
       "      <td>0.919244</td>\n",
       "    </tr>\n",
       "    <tr>\n",
       "      <th>10</th>\n",
       "      <td>0.987381</td>\n",
       "      <td>0.935913</td>\n",
       "      <td>0.995737</td>\n",
       "      <td>0.970708</td>\n",
       "      <td>0.942679</td>\n",
       "      <td>0.974757</td>\n",
       "      <td>0.981311</td>\n",
       "    </tr>\n",
       "    <tr>\n",
       "      <th>11</th>\n",
       "      <td>1.075567</td>\n",
       "      <td>0.991125</td>\n",
       "      <td>1.060383</td>\n",
       "      <td>1.003899</td>\n",
       "      <td>1.001410</td>\n",
       "      <td>1.113573</td>\n",
       "      <td>1.082944</td>\n",
       "    </tr>\n",
       "    <tr>\n",
       "      <th>12</th>\n",
       "      <td>1.085772</td>\n",
       "      <td>1.069385</td>\n",
       "      <td>1.017721</td>\n",
       "      <td>0.981911</td>\n",
       "      <td>0.999224</td>\n",
       "      <td>1.155836</td>\n",
       "      <td>1.065421</td>\n",
       "    </tr>\n",
       "  </tbody>\n",
       "</table>\n",
       "</div>"
      ],
      "text/plain": [
       "AreaName   Austria   Croatia   Germany     Italy     Spain    Sweden  \\\n",
       "DateTime                                                               \n",
       "1         1.113425  1.082719  1.064554  1.026697  1.064727  1.274837   \n",
       "2         1.128539  1.063903  1.074510  1.049985  1.066895  1.240632   \n",
       "3         1.063218  1.001216  1.036265  0.990605  1.001202  1.139172   \n",
       "4         0.953912  0.918810  0.966114  0.910626  0.941515  0.995361   \n",
       "5         0.910074  0.905044  0.948962  0.933483  0.935340  0.875668   \n",
       "6         0.926077  0.958456  0.963211  1.026133  0.995052  0.820553   \n",
       "7         0.916214  1.064057  0.965244  1.136398  1.062301  0.757850   \n",
       "8         0.905685  1.052261  0.947354  0.959686  1.009465  0.803023   \n",
       "9         0.942456  0.957277  0.965235  1.012885  0.983747  0.865870   \n",
       "10        0.987381  0.935913  0.995737  0.970708  0.942679  0.974757   \n",
       "11        1.075567  0.991125  1.060383  1.003899  1.001410  1.113573   \n",
       "12        1.085772  1.069385  1.017721  0.981911  0.999224  1.155836   \n",
       "\n",
       "AreaName  United Kingdom  \n",
       "DateTime                  \n",
       "1               1.133772  \n",
       "2               1.158053  \n",
       "3               1.094719  \n",
       "4               0.996545  \n",
       "5               0.948103  \n",
       "6               0.915583  \n",
       "7               0.910248  \n",
       "8               0.896155  \n",
       "9               0.919244  \n",
       "10              0.981311  \n",
       "11              1.082944  \n",
       "12              1.065421  "
      ]
     },
     "execution_count": 14,
     "metadata": {},
     "output_type": "execute_result"
    }
   ],
   "source": [
    "result.unstack(level=-1)"
   ]
  },
  {
   "cell_type": "code",
   "execution_count": null,
   "metadata": {},
   "outputs": [],
   "source": []
  },
  {
   "cell_type": "code",
   "execution_count": 15,
   "metadata": {},
   "outputs": [
    {
     "data": {
      "text/plain": [
       "<matplotlib.axes._subplots.AxesSubplot at 0x1df2bd23cc8>"
      ]
     },
     "execution_count": 15,
     "metadata": {},
     "output_type": "execute_result"
    },
    {
     "data": {
      "image/png": "[encoded data removed]",
      "text/plain": [
       "<Figure size 432x288 with 1 Axes>"
      ]
     },
     "metadata": {
      "needs_background": "light"
     },
     "output_type": "display_data"
    }
   ],
   "source": [
    "result.unstack(level=0).loc[('Sweden')].plot(legend=True)\n",
    "result.unstack(level=0).loc[('Croatia')].plot(legend=True)"
   ]
  },
  {
   "cell_type": "code",
   "execution_count": 16,
   "metadata": {},
   "outputs": [
    {
     "data": {
      "text/plain": [
       "<matplotlib.axes._subplots.AxesSubplot at 0x1df14d9ca48>"
      ]
     },
     "execution_count": 16,
     "metadata": {},
     "output_type": "execute_result"
    },
    {
     "data": {
      "image/png": "[encoded data removed]",
      "text/plain": [
       "<Figure size 432x288 with 1 Axes>"
      ]
     },
     "metadata": {
      "needs_background": "light"
     },
     "output_type": "display_data"
    }
   ],
   "source": [
    "result.plot()"
   ]
  },
  {
   "cell_type": "code",
   "execution_count": 17,
   "metadata": {},
   "outputs": [
    {
     "data": {
      "text/plain": [
       "array([<matplotlib.axes._subplots.AxesSubplot object at 0x000001DF14E4CE48>,\n",
       "       <matplotlib.axes._subplots.AxesSubplot object at 0x000001DF14E910C8>,\n",
       "       <matplotlib.axes._subplots.AxesSubplot object at 0x000001DF14E5F808>,\n",
       "       <matplotlib.axes._subplots.AxesSubplot object at 0x000001DF14EF5848>,\n",
       "       <matplotlib.axes._subplots.AxesSubplot object at 0x000001DF14F2D808>,\n",
       "       <matplotlib.axes._subplots.AxesSubplot object at 0x000001DF14F667C8>,\n",
       "       <matplotlib.axes._subplots.AxesSubplot object at 0x000001DF14F9E788>,\n",
       "       <matplotlib.axes._subplots.AxesSubplot object at 0x000001DF14FD6748>,\n",
       "       <matplotlib.axes._subplots.AxesSubplot object at 0x000001DF14FE22C8>,\n",
       "       <matplotlib.axes._subplots.AxesSubplot object at 0x000001DF1501B348>,\n",
       "       <matplotlib.axes._subplots.AxesSubplot object at 0x000001DF1507F708>,\n",
       "       <matplotlib.axes._subplots.AxesSubplot object at 0x000001DF150BDE48>],\n",
       "      dtype=object)"
      ]
     },
     "execution_count": 17,
     "metadata": {},
     "output_type": "execute_result"
    },
    {
     "data": {
      "image/png": "[encoded data removed]",
      "text/plain": [
       "<Figure size 1080x720 with 12 Axes>"
      ]
     },
     "metadata": {
      "needs_background": "light"
     },
     "output_type": "display_data"
    }
   ],
   "source": [
    "result.unstack(level=0).plot(kind='line',subplots=True, figsize=(15, 10))"
   ]
  },
  {
   "cell_type": "markdown",
   "metadata": {},
   "source": [
    "Climatic conditions seem to make the difference (in Sweden the powerconsumption varies more over the year, a lot more power is consumed in winter time compared to July in summer -maybe also because of big differences in daylight)"
   ]
  },
  {
   "cell_type": "markdown",
   "metadata": {},
   "source": [
    "# Exercise 3 - calculate the hourly average consumption as deviation from mean consumption\n",
    "\n",
    "Do the same as in exercise 2, but now for the hourly average consumption. I.e. how much is consumed on each of the 24 hours of a day?\n",
    "\n",
    "Which country has the lowest, which the highest variability? What may be the reason for it?"
   ]
  },
  {
   "cell_type": "code",
   "execution_count": 19,
   "metadata": {},
   "outputs": [
    {
     "data": {
      "text/plain": [
       "DateTime  AreaName      \n",
       "0         Austria            5655.575192\n",
       "          Croatia            1500.185104\n",
       "          Germany           44154.977134\n",
       "          Italy             24837.571194\n",
       "          Spain             23931.919496\n",
       "                                ...     \n",
       "23        Germany           45549.716058\n",
       "          Italy             26147.164841\n",
       "          Spain             25330.783680\n",
       "          Sweden            13504.059243\n",
       "          United Kingdom    29568.920814\n",
       "Name: TotalLoadValue, Length: 168, dtype: float64"
      ]
     },
     "execution_count": 19,
     "metadata": {},
     "output_type": "execute_result"
    }
   ],
   "source": [
    "pd_hour_mean = powerd.groupby([powerd.index.hour,powerd.AreaName]).mean()\n",
    "pd_hour_mean['TotalLoadValue']"
   ]
  },
  {
   "cell_type": "code",
   "execution_count": 21,
   "metadata": {},
   "outputs": [
    {
     "data": {
      "text/plain": [
       "AreaName\n",
       "Austria            7124.438760\n",
       "Croatia            2003.858225\n",
       "Germany           55859.257807\n",
       "Italy             33192.450073\n",
       "Spain             28664.970677\n",
       "Sweden            15623.217001\n",
       "United Kingdom    36318.162173\n",
       "Name: TotalLoadValue, dtype: float64"
      ]
     },
     "execution_count": 21,
     "metadata": {},
     "output_type": "execute_result"
    }
   ],
   "source": [
    "pd_hour_mean_total = powerd.groupby([powerd.AreaName]).mean()\n",
    "pd_hour_mean_total['TotalLoadValue']"
   ]
  },
  {
   "cell_type": "code",
   "execution_count": 22,
   "metadata": {
    "scrolled": true
   },
   "outputs": [
    {
     "data": {
      "text/html": [
       "<div>\n",
       "<style scoped>\n",
       "    .dataframe tbody tr th:only-of-type {\n",
       "        vertical-align: middle;\n",
       "    }\n",
       "\n",
       "    .dataframe tbody tr th {\n",
       "        vertical-align: top;\n",
       "    }\n",
       "\n",
       "    .dataframe thead th {\n",
       "        text-align: right;\n",
       "    }\n",
       "</style>\n",
       "<table border=\"1\" class=\"dataframe\">\n",
       "  <thead>\n",
       "    <tr style=\"text-align: right;\">\n",
       "      <th>DateTime</th>\n",
       "      <th>0</th>\n",
       "      <th>1</th>\n",
       "      <th>2</th>\n",
       "      <th>3</th>\n",
       "      <th>4</th>\n",
       "      <th>5</th>\n",
       "      <th>6</th>\n",
       "      <th>7</th>\n",
       "      <th>8</th>\n",
       "      <th>9</th>\n",
       "      <th>...</th>\n",
       "      <th>14</th>\n",
       "      <th>15</th>\n",
       "      <th>16</th>\n",
       "      <th>17</th>\n",
       "      <th>18</th>\n",
       "      <th>19</th>\n",
       "      <th>20</th>\n",
       "      <th>21</th>\n",
       "      <th>22</th>\n",
       "      <th>23</th>\n",
       "    </tr>\n",
       "    <tr>\n",
       "      <th>AreaName</th>\n",
       "      <th></th>\n",
       "      <th></th>\n",
       "      <th></th>\n",
       "      <th></th>\n",
       "      <th></th>\n",
       "      <th></th>\n",
       "      <th></th>\n",
       "      <th></th>\n",
       "      <th></th>\n",
       "      <th></th>\n",
       "      <th></th>\n",
       "      <th></th>\n",
       "      <th></th>\n",
       "      <th></th>\n",
       "      <th></th>\n",
       "      <th></th>\n",
       "      <th></th>\n",
       "      <th></th>\n",
       "      <th></th>\n",
       "      <th></th>\n",
       "      <th></th>\n",
       "    </tr>\n",
       "  </thead>\n",
       "  <tbody>\n",
       "    <tr>\n",
       "      <th>Austria</th>\n",
       "      <td>0.793827</td>\n",
       "      <td>0.775329</td>\n",
       "      <td>0.774633</td>\n",
       "      <td>0.817662</td>\n",
       "      <td>0.913076</td>\n",
       "      <td>1.019787</td>\n",
       "      <td>1.094249</td>\n",
       "      <td>1.121196</td>\n",
       "      <td>1.136013</td>\n",
       "      <td>1.147562</td>\n",
       "      <td>...</td>\n",
       "      <td>1.076494</td>\n",
       "      <td>1.092211</td>\n",
       "      <td>1.115074</td>\n",
       "      <td>1.103892</td>\n",
       "      <td>1.062391</td>\n",
       "      <td>1.004171</td>\n",
       "      <td>0.956321</td>\n",
       "      <td>0.910790</td>\n",
       "      <td>0.860192</td>\n",
       "      <td>0.818254</td>\n",
       "    </tr>\n",
       "    <tr>\n",
       "      <th>Croatia</th>\n",
       "      <td>0.748648</td>\n",
       "      <td>0.725618</td>\n",
       "      <td>0.724223</td>\n",
       "      <td>0.743837</td>\n",
       "      <td>0.829584</td>\n",
       "      <td>0.953389</td>\n",
       "      <td>1.037373</td>\n",
       "      <td>1.091075</td>\n",
       "      <td>1.110589</td>\n",
       "      <td>1.127611</td>\n",
       "      <td>...</td>\n",
       "      <td>1.036893</td>\n",
       "      <td>1.057351</td>\n",
       "      <td>1.107197</td>\n",
       "      <td>1.154004</td>\n",
       "      <td>1.183393</td>\n",
       "      <td>1.157049</td>\n",
       "      <td>1.119188</td>\n",
       "      <td>1.015268</td>\n",
       "      <td>0.890710</td>\n",
       "      <td>0.799605</td>\n",
       "    </tr>\n",
       "    <tr>\n",
       "      <th>Germany</th>\n",
       "      <td>0.790468</td>\n",
       "      <td>0.784410</td>\n",
       "      <td>0.794828</td>\n",
       "      <td>0.827432</td>\n",
       "      <td>0.902923</td>\n",
       "      <td>0.992040</td>\n",
       "      <td>1.061572</td>\n",
       "      <td>1.097770</td>\n",
       "      <td>1.123069</td>\n",
       "      <td>1.145620</td>\n",
       "      <td>...</td>\n",
       "      <td>1.072070</td>\n",
       "      <td>1.074335</td>\n",
       "      <td>1.094322</td>\n",
       "      <td>1.100261</td>\n",
       "      <td>1.074262</td>\n",
       "      <td>1.024465</td>\n",
       "      <td>0.974616</td>\n",
       "      <td>0.918713</td>\n",
       "      <td>0.858213</td>\n",
       "      <td>0.815437</td>\n",
       "    </tr>\n",
       "    <tr>\n",
       "      <th>Italy</th>\n",
       "      <td>0.748290</td>\n",
       "      <td>0.728793</td>\n",
       "      <td>0.725584</td>\n",
       "      <td>0.742420</td>\n",
       "      <td>0.806415</td>\n",
       "      <td>0.926393</td>\n",
       "      <td>1.050223</td>\n",
       "      <td>1.125443</td>\n",
       "      <td>1.150836</td>\n",
       "      <td>1.150619</td>\n",
       "      <td>...</td>\n",
       "      <td>1.113087</td>\n",
       "      <td>1.120169</td>\n",
       "      <td>1.143845</td>\n",
       "      <td>1.170697</td>\n",
       "      <td>1.168466</td>\n",
       "      <td>1.116215</td>\n",
       "      <td>1.029558</td>\n",
       "      <td>0.936939</td>\n",
       "      <td>0.852839</td>\n",
       "      <td>0.787744</td>\n",
       "    </tr>\n",
       "    <tr>\n",
       "      <th>Spain</th>\n",
       "      <td>0.834884</td>\n",
       "      <td>0.806625</td>\n",
       "      <td>0.793747</td>\n",
       "      <td>0.795573</td>\n",
       "      <td>0.829511</td>\n",
       "      <td>0.895913</td>\n",
       "      <td>0.975686</td>\n",
       "      <td>1.039481</td>\n",
       "      <td>1.084153</td>\n",
       "      <td>1.110194</td>\n",
       "      <td>...</td>\n",
       "      <td>1.062025</td>\n",
       "      <td>1.053195</td>\n",
       "      <td>1.049548</td>\n",
       "      <td>1.069580</td>\n",
       "      <td>1.103386</td>\n",
       "      <td>1.126225</td>\n",
       "      <td>1.089923</td>\n",
       "      <td>1.016394</td>\n",
       "      <td>0.946177</td>\n",
       "      <td>0.883684</td>\n",
       "    </tr>\n",
       "    <tr>\n",
       "      <th>Sweden</th>\n",
       "      <td>0.854127</td>\n",
       "      <td>0.849989</td>\n",
       "      <td>0.850800</td>\n",
       "      <td>0.868920</td>\n",
       "      <td>0.928000</td>\n",
       "      <td>1.010035</td>\n",
       "      <td>1.064473</td>\n",
       "      <td>1.081965</td>\n",
       "      <td>1.090564</td>\n",
       "      <td>1.090868</td>\n",
       "      <td>...</td>\n",
       "      <td>1.060505</td>\n",
       "      <td>1.075009</td>\n",
       "      <td>1.083418</td>\n",
       "      <td>1.076015</td>\n",
       "      <td>1.056424</td>\n",
       "      <td>1.023223</td>\n",
       "      <td>0.979543</td>\n",
       "      <td>0.929498</td>\n",
       "      <td>0.886536</td>\n",
       "      <td>0.864358</td>\n",
       "    </tr>\n",
       "    <tr>\n",
       "      <th>United Kingdom</th>\n",
       "      <td>0.774774</td>\n",
       "      <td>0.750836</td>\n",
       "      <td>0.722387</td>\n",
       "      <td>0.706412</td>\n",
       "      <td>0.710490</td>\n",
       "      <td>0.791802</td>\n",
       "      <td>0.929793</td>\n",
       "      <td>1.043434</td>\n",
       "      <td>1.100562</td>\n",
       "      <td>1.128744</td>\n",
       "      <td>...</td>\n",
       "      <td>1.114911</td>\n",
       "      <td>1.132936</td>\n",
       "      <td>1.175015</td>\n",
       "      <td>1.195277</td>\n",
       "      <td>1.185801</td>\n",
       "      <td>1.151289</td>\n",
       "      <td>1.095735</td>\n",
       "      <td>1.011592</td>\n",
       "      <td>0.908020</td>\n",
       "      <td>0.814163</td>\n",
       "    </tr>\n",
       "  </tbody>\n",
       "</table>\n",
       "<p>7 rows × 24 columns</p>\n",
       "</div>"
      ],
      "text/plain": [
       "DateTime              0         1         2         3         4         5   \\\n",
       "AreaName                                                                     \n",
       "Austria         0.793827  0.775329  0.774633  0.817662  0.913076  1.019787   \n",
       "Croatia         0.748648  0.725618  0.724223  0.743837  0.829584  0.953389   \n",
       "Germany         0.790468  0.784410  0.794828  0.827432  0.902923  0.992040   \n",
       "Italy           0.748290  0.728793  0.725584  0.742420  0.806415  0.926393   \n",
       "Spain           0.834884  0.806625  0.793747  0.795573  0.829511  0.895913   \n",
       "Sweden          0.854127  0.849989  0.850800  0.868920  0.928000  1.010035   \n",
       "United Kingdom  0.774774  0.750836  0.722387  0.706412  0.710490  0.791802   \n",
       "\n",
       "DateTime              6         7         8         9   ...        14  \\\n",
       "AreaName                                                ...             \n",
       "Austria         1.094249  1.121196  1.136013  1.147562  ...  1.076494   \n",
       "Croatia         1.037373  1.091075  1.110589  1.127611  ...  1.036893   \n",
       "Germany         1.061572  1.097770  1.123069  1.145620  ...  1.072070   \n",
       "Italy           1.050223  1.125443  1.150836  1.150619  ...  1.113087   \n",
       "Spain           0.975686  1.039481  1.084153  1.110194  ...  1.062025   \n",
       "Sweden          1.064473  1.081965  1.090564  1.090868  ...  1.060505   \n",
       "United Kingdom  0.929793  1.043434  1.100562  1.128744  ...  1.114911   \n",
       "\n",
       "DateTime              15        16        17        18        19        20  \\\n",
       "AreaName                                                                     \n",
       "Austria         1.092211  1.115074  1.103892  1.062391  1.004171  0.956321   \n",
       "Croatia         1.057351  1.107197  1.154004  1.183393  1.157049  1.119188   \n",
       "Germany         1.074335  1.094322  1.100261  1.074262  1.024465  0.974616   \n",
       "Italy           1.120169  1.143845  1.170697  1.168466  1.116215  1.029558   \n",
       "Spain           1.053195  1.049548  1.069580  1.103386  1.126225  1.089923   \n",
       "Sweden          1.075009  1.083418  1.076015  1.056424  1.023223  0.979543   \n",
       "United Kingdom  1.132936  1.175015  1.195277  1.185801  1.151289  1.095735   \n",
       "\n",
       "DateTime              21        22        23  \n",
       "AreaName                                      \n",
       "Austria         0.910790  0.860192  0.818254  \n",
       "Croatia         1.015268  0.890710  0.799605  \n",
       "Germany         0.918713  0.858213  0.815437  \n",
       "Italy           0.936939  0.852839  0.787744  \n",
       "Spain           1.016394  0.946177  0.883684  \n",
       "Sweden          0.929498  0.886536  0.864358  \n",
       "United Kingdom  1.011592  0.908020  0.814163  \n",
       "\n",
       "[7 rows x 24 columns]"
      ]
     },
     "execution_count": 22,
     "metadata": {},
     "output_type": "execute_result"
    }
   ],
   "source": [
    "resulth = pd_hour_mean['TotalLoadValue']/pd_hour_mean_total['TotalLoadValue']\n",
    "resulth.unstack(0)"
   ]
  },
  {
   "cell_type": "code",
   "execution_count": 23,
   "metadata": {},
   "outputs": [
    {
     "data": {
      "text/plain": [
       "DateTime\n",
       "0             Sweden\n",
       "1             Sweden\n",
       "2             Sweden\n",
       "3             Sweden\n",
       "4             Sweden\n",
       "5            Austria\n",
       "6            Austria\n",
       "7              Italy\n",
       "8              Italy\n",
       "9              Italy\n",
       "10           Germany\n",
       "11    United Kingdom\n",
       "12    United Kingdom\n",
       "13    United Kingdom\n",
       "14    United Kingdom\n",
       "15    United Kingdom\n",
       "16    United Kingdom\n",
       "17    United Kingdom\n",
       "18    United Kingdom\n",
       "19           Croatia\n",
       "20           Croatia\n",
       "21             Spain\n",
       "22             Spain\n",
       "23             Spain\n",
       "dtype: object"
      ]
     },
     "execution_count": 23,
     "metadata": {},
     "output_type": "execute_result"
    }
   ],
   "source": [
    "resulth.unstack(0).idxmax(axis=0)"
   ]
  },
  {
   "cell_type": "code",
   "execution_count": 24,
   "metadata": {},
   "outputs": [
    {
     "data": {
      "text/plain": [
       "DateTime\n",
       "0              Italy\n",
       "1            Croatia\n",
       "2     United Kingdom\n",
       "3     United Kingdom\n",
       "4     United Kingdom\n",
       "5     United Kingdom\n",
       "6     United Kingdom\n",
       "7              Spain\n",
       "8              Spain\n",
       "9             Sweden\n",
       "10            Sweden\n",
       "11            Sweden\n",
       "12            Sweden\n",
       "13           Croatia\n",
       "14           Croatia\n",
       "15             Spain\n",
       "16             Spain\n",
       "17             Spain\n",
       "18            Sweden\n",
       "19           Austria\n",
       "20           Austria\n",
       "21           Austria\n",
       "22             Italy\n",
       "23             Italy\n",
       "dtype: object"
      ]
     },
     "execution_count": 24,
     "metadata": {},
     "output_type": "execute_result"
    }
   ],
   "source": [
    "resulth.unstack(0).idxmin(axis=0)"
   ]
  },
  {
   "cell_type": "code",
   "execution_count": 25,
   "metadata": {},
   "outputs": [
    {
     "data": {
      "text/plain": [
       "<matplotlib.axes._subplots.AxesSubplot at 0x1df1c4b5c48>"
      ]
     },
     "execution_count": 25,
     "metadata": {},
     "output_type": "execute_result"
    },
    {
     "data": {
      "image/png": "[encoded data removed]",
      "text/plain": [
       "<Figure size 432x288 with 1 Axes>"
      ]
     },
     "metadata": {
      "needs_background": "light"
     },
     "output_type": "display_data"
    }
   ],
   "source": [
    "resulth.unstack(level=0).loc[('United Kingdom')].plot(legend=True)\n",
    "resulth.unstack(level=0).loc[('Germany')].plot(legend=True)\n",
    "#resulth.unstack(level=0).loc[('Spain')].plot(legend=True)\n",
    "#resulth.unstack(level=0).loc[('Croatia')].plot(legend=True)\n",
    "#resulth.unstack(level=0).loc[('Austria')].plot(legend=True)\n",
    "#resulth.unstack(level=0).loc[('Sweden')].plot(legend=True)"
   ]
  },
  {
   "cell_type": "code",
   "execution_count": 26,
   "metadata": {},
   "outputs": [
    {
     "data": {
      "text/plain": [
       "<matplotlib.axes._subplots.AxesSubplot at 0x1df1c4f8bc8>"
      ]
     },
     "execution_count": 26,
     "metadata": {},
     "output_type": "execute_result"
    },
    {
     "data": {
      "image/png": "[encoded data removed]",
      "text/plain": [
       "<Figure size 1080x720 with 1 Axes>"
      ]
     },
     "metadata": {
      "needs_background": "light"
     },
     "output_type": "display_data"
    }
   ],
   "source": [
    "resulth.plot(figsize=(15, 10))"
   ]
  },
  {
   "cell_type": "markdown",
   "metadata": {},
   "source": [
    "# Exercise 4 - Calculate the average load per capita\n",
    "\n",
    "Below you find a table with population data for our selected countries. You should use it to calculate per capita consumption.\n",
    "\n",
    "(1) Calculate the average load in all countries using ```groupby``` and ```mean``` and select the column ```TotalLoadValue``` from the result.\n",
    "\n",
    "(2) Divide the result by the ```Population``` column of the dataframe ```population```. Observe, how broadcasting helps here nicely.\n",
    "\n",
    "(3) Plot the result. Which country has the highest load, which the lowest? What may be the reason? In which unit is this value? How could we convert it to MWh per year?"
   ]
  },
  {
   "cell_type": "code",
   "execution_count": 27,
   "metadata": {},
   "outputs": [
    {
     "data": {
      "text/html": [
       "<div>\n",
       "<style scoped>\n",
       "    .dataframe tbody tr th:only-of-type {\n",
       "        vertical-align: middle;\n",
       "    }\n",
       "\n",
       "    .dataframe tbody tr th {\n",
       "        vertical-align: top;\n",
       "    }\n",
       "\n",
       "    .dataframe thead th {\n",
       "        text-align: right;\n",
       "    }\n",
       "</style>\n",
       "<table border=\"1\" class=\"dataframe\">\n",
       "  <thead>\n",
       "    <tr style=\"text-align: right;\">\n",
       "      <th></th>\n",
       "      <th>Country</th>\n",
       "      <th>Population</th>\n",
       "    </tr>\n",
       "    <tr>\n",
       "      <th>Country</th>\n",
       "      <th></th>\n",
       "      <th></th>\n",
       "    </tr>\n",
       "  </thead>\n",
       "  <tbody>\n",
       "    <tr>\n",
       "      <th>Austria</th>\n",
       "      <td>Austria</td>\n",
       "      <td>8840521</td>\n",
       "    </tr>\n",
       "    <tr>\n",
       "      <th>Croatia</th>\n",
       "      <td>Croatia</td>\n",
       "      <td>4087843</td>\n",
       "    </tr>\n",
       "    <tr>\n",
       "      <th>Germany</th>\n",
       "      <td>Germany</td>\n",
       "      <td>82905782</td>\n",
       "    </tr>\n",
       "    <tr>\n",
       "      <th>Italy</th>\n",
       "      <td>Italy</td>\n",
       "      <td>60421760</td>\n",
       "    </tr>\n",
       "    <tr>\n",
       "      <th>Spain</th>\n",
       "      <td>Spain</td>\n",
       "      <td>46796540</td>\n",
       "    </tr>\n",
       "    <tr>\n",
       "      <th>Sweden</th>\n",
       "      <td>Sweden</td>\n",
       "      <td>10175214</td>\n",
       "    </tr>\n",
       "    <tr>\n",
       "      <th>United Kingdom</th>\n",
       "      <td>United Kingdom</td>\n",
       "      <td>66460344</td>\n",
       "    </tr>\n",
       "  </tbody>\n",
       "</table>\n",
       "</div>"
      ],
      "text/plain": [
       "                       Country  Population\n",
       "Country                                   \n",
       "Austria                Austria     8840521\n",
       "Croatia                Croatia     4087843\n",
       "Germany                Germany    82905782\n",
       "Italy                    Italy    60421760\n",
       "Spain                    Spain    46796540\n",
       "Sweden                  Sweden    10175214\n",
       "United Kingdom  United Kingdom    66460344"
      ]
     },
     "execution_count": 27,
     "metadata": {},
     "output_type": "execute_result"
    }
   ],
   "source": [
    "population = pd.DataFrame({'Country': [\"Austria\", \"Croatia\", \"Germany\", \"Italy\", \"Spain\", \"Sweden\", \"United Kingdom\"],\n",
    "             'Population': [8840521, 4087843, 82905782, 60421760, 46796540, 10175214, 66460344]})\n",
    "\n",
    "population.index = population[\"Country\"]\n",
    "\n",
    "population"
   ]
  },
  {
   "cell_type": "code",
   "execution_count": 67,
   "metadata": {},
   "outputs": [
    {
     "data": {
      "text/plain": [
       "AreaName\n",
       "Austria            7124.438760\n",
       "Croatia            2003.858225\n",
       "Germany           55859.257807\n",
       "Italy             33192.450073\n",
       "Spain             28664.970677\n",
       "Sweden            15623.217001\n",
       "United Kingdom    36318.162173\n",
       "Name: TotalLoadValue, dtype: float64"
      ]
     },
     "execution_count": 67,
     "metadata": {},
     "output_type": "execute_result"
    }
   ],
   "source": [
    "pd_mean_total = powerd.groupby([powerd.AreaName]).mean()\n",
    "pd_mean_total['TotalLoadValue']"
   ]
  },
  {
   "cell_type": "code",
   "execution_count": 73,
   "metadata": {},
   "outputs": [],
   "source": [
    "MWh = pd_mean_total['TotalLoadValue']/5                          #5 years ,M=1000?"
   ]
  },
  {
   "cell_type": "code",
   "execution_count": 74,
   "metadata": {},
   "outputs": [
    {
     "data": {
      "text/plain": [
       "AreaName\n",
       "Austria            1424.887752\n",
       "Croatia             400.771645\n",
       "Germany           11171.851561\n",
       "Italy              6638.490015\n",
       "Spain              5732.994135\n",
       "Sweden             3124.643400\n",
       "United Kingdom     7263.632435\n",
       "Name: TotalLoadValue, dtype: float64"
      ]
     },
     "execution_count": 74,
     "metadata": {},
     "output_type": "execute_result"
    }
   ],
   "source": [
    "MWh"
   ]
  },
  {
   "cell_type": "code",
   "execution_count": 59,
   "metadata": {},
   "outputs": [
    {
     "data": {
      "text/plain": [
       "AreaName\n",
       "Austria           0.000161\n",
       "Croatia           0.000098\n",
       "Germany           0.000135\n",
       "Italy             0.000110\n",
       "Spain             0.000123\n",
       "Sweden            0.000307\n",
       "United Kingdom    0.000109\n",
       "dtype: float64"
      ]
     },
     "execution_count": 59,
     "metadata": {},
     "output_type": "execute_result"
    }
   ],
   "source": [
    "MWh/population['Population']"
   ]
  },
  {
   "cell_type": "code",
   "execution_count": null,
   "metadata": {},
   "outputs": [],
   "source": []
  },
  {
   "cell_type": "code",
   "execution_count": null,
   "metadata": {},
   "outputs": [],
   "source": []
  }
 ],
 "metadata": {
  "kernelspec": {
   "display_name": "Python 3",
   "language": "python",
   "name": "python3"
  },
  "language_info": {
   "codemirror_mode": {
    "name": "ipython",
    "version": 3
   },
   "file_extension": ".py",
   "mimetype": "text/x-python",
   "name": "python",
   "nbconvert_exporter": "python",
   "pygments_lexer": "ipython3",
   "version": "3.7.7"
  }
 },
 "nbformat": 4,
 "nbformat_minor": 4
}
