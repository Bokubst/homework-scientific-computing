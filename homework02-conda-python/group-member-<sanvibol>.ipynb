{
 "cells": [
  {
   "cell_type": "code",
   "execution_count": 2,
   "metadata": {
    "scrolled": true
   },
   "outputs": [],
   "source": [
    "\"\"\"Store personal data encrypted with our public key.\"\"\"\n",
    "import subprocess\n",
    "# if you get an ImportError, you missed to install\n",
    "# the package cryptography with conda\n",
    "from cryptography.hazmat.backends import default_backend\n",
    "from cryptography.hazmat.primitives import serialization\n",
    "from cryptography.hazmat.primitives import hashes\n",
    "from cryptography.hazmat.primitives.asymmetric import padding\n",
    "\n",
    "# change this:\n",
    "real_name = \"Vibol San\"\n",
    "github_account = \"sanvibol\"\n",
    "regstration_number = \"11731341\"\n",
    "\n",
    "# open and read the public key\n",
    "with open(\"public_key.pem\", \"rb\") as key_file:\n",
    "    public_key = serialization.load_pem_public_key(\n",
    "        key_file.read(), backend=default_backend())\n",
    "    \n",
    "def git_config_value(param):\n",
    "    raw_value = subprocess.check_output(\n",
    "        ['git', 'config', f'user.{param}'])\n",
    "    return raw_value.decode().strip()\n",
    "\n",
    "# determine git name/mail address\n",
    "git_name = git_config_value('name')\n",
    "git_mail = git_config_value('email')\n",
    "\n",
    "# concatenate strings as CSV format\n",
    "name_mapping = \";\".join((real_name, github_account,\n",
    "                        regstration_number, git_name, git_mail))\n",
    "\n",
    "# encrypt string\n",
    "encrypted = public_key.encrypt(\n",
    "    name_mapping.encode(),\n",
    "    padding.OAEP(\n",
    "    mgf=padding.MGF1(algorithm=hashes.SHA256()),\n",
    "    algorithm=hashes.SHA256(),\n",
    "    label=None))\n",
    "\n",
    "# write encrypted data to disk\n",
    "out_filename = f\"group-member-{github_account}.txt\"\n",
    "with open(out_filename, 'wb') as f:\n",
    "    f.write(encrypted)"
   ]
  },
  {
   "cell_type": "code",
   "execution_count": null,
   "metadata": {},
   "outputs": [],
   "source": []
  }
 ],
 "metadata": {
  "kernelspec": {
   "display_name": "Python 3",
   "language": "python",
   "name": "python3"
  },
  "language_info": {
   "codemirror_mode": {
    "name": "ipython",
    "version": 3
   },
   "file_extension": ".py",
   "mimetype": "text/x-python",
   "name": "python",
   "nbconvert_exporter": "python",
   "pygments_lexer": "ipython3",
   "version": "3.7.7"
  }
 },
 "nbformat": 4,
 "nbformat_minor": 4
}
