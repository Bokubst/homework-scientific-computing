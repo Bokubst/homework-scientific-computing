{
 "cells": [
  {
   "cell_type": "code",
   "execution_count": null,
   "metadata": {},
   "outputs": [],
   "source": [
    "\"\"\"Store personal data encrypted with our public key.\"\"\"\n",
    "# if you get an ImportError, you missed to install\n",
    "# the package cryptography with conda\n",
    "from cryptography.hazmat.backends import default_backend\n",
    "from cryptography.hazmat.primitives import serialization\n",
    "from cryptography.hazmat.primitives import hashes\n",
    "from cryptography.hazmat.primitives.asymmetric import padding\n",
    "# open and read the public key\n",
    "with open(\"public_key.pem\", \"rb\") as key_file:\n",
    "public_key = serialization.load_pem_public_key(\n",
    "key_file.read(), backend=default_backend()\n",
    ")\n",
    "name_mapping = sanvibol\n",
    "\n",
    "encrypted = public_key.encrypt(\n",
    "name_mapping,\n",
    "padding.OAEP(\n",
    "mgf=padding.MGF1(algorithm=hashes.SHA256()),\n",
    "algorithm=hashes.SHA256(),\n",
    "label=None))\n",
    "# change this to your github account name!\n",
    "filename = \"group-member-<sanvibol>.txt\"\n",
    "with open(filename, 'wb') as f:\n",
    "f.write(encrypted)"
   ]
  }
 ],
 "metadata": {
  "kernelspec": {
   "display_name": "Python 3",
   "language": "python",
   "name": "python3"
  },
  "language_info": {
   "codemirror_mode": {
    "name": "ipython",
    "version": 3
   },
   "file_extension": ".py",
   "mimetype": "text/x-python",
   "name": "python",
   "nbconvert_exporter": "python",
   "pygments_lexer": "ipython3",
   "version": "3.7.7"
  }
 },
 "nbformat": 4,
 "nbformat_minor": 4
}
